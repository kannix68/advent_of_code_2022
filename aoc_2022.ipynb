{
 "cells": [
  {
   "cell_type": "markdown",
   "id": "084daaf7-bac8-42d9-935f-73dfc967a9fa",
   "metadata": {},
   "source": [
    "# Advent of Code 2022\n",
    "See [adventofcode](https://adventofcode.com/2022) original website.\n",
    "\n",
    "This solution (Jupyter lab 3.5.0; python 3.10) by kannix68, @ 2022-12.  \\\n",
    "Using anaconda distro, conda v22.9.0.  \\\n",
    "Tested and run on MacOS v10.14.6 \"Mojave\".\n",
    "\n",
    "Reddit [r/adventofcode](https://www.reddit.com/r/adventofcode)"
   ]
  },
  {
   "cell_type": "code",
   "execution_count": null,
   "id": "0097dc88-bc5f-4863-909f-d1bb1ebf8a73",
   "metadata": {},
   "outputs": [],
   "source": [
    "import copy\n",
    "import itertools\n",
    "import logging\n",
    "import re\n",
    "import sys\n",
    "\n",
    "import numpy as np\n",
    "import pandas as pd\n",
    "\n",
    "import pylib.aochelper as aoc\n",
    "from pylib.aochelper import map_list as mapl\n",
    "from pylib.aochelper import filter_list as filterl\n",
    "\n",
    "print(\"Python version:\", sys.version)\n",
    "print(\"Version info:\", sys.version_info)\n",
    "\n",
    "log = aoc.getLogger(__name__)\n",
    "print(f\"Initial log-level={aoc.getLogLevelName(log.getEffectiveLevel())}.\")"
   ]
  },
  {
   "cell_type": "markdown",
   "id": "bc2c3b28-331a-4d8b-8a34-51ce061fb0b5",
   "metadata": {},
   "source": [
    "## Problem domain code"
   ]
  },
  {
   "cell_type": "markdown",
   "id": "cf2fb700-a61a-4c46-ba70-b6418c3848b8",
   "metadata": {},
   "source": [
    "### --- Day 1: Calorie Counting ---"
   ]
  },
  {
   "cell_type": "code",
   "execution_count": null,
   "id": "8fd00216-fca9-45eb-a783-23eb8bc173b8",
   "metadata": {},
   "outputs": [],
   "source": [
    "print(\"Day 1\")\n",
    "\n",
    "tests = \"\"\"\n",
    "1000\n",
    "2000\n",
    "3000\n",
    "\n",
    "4000\n",
    "\n",
    "5000\n",
    "6000\n",
    "\n",
    "7000\n",
    "8000\n",
    "9000\n",
    "\n",
    "10000\n",
    "\"\"\".strip()"
   ]
  },
  {
   "cell_type": "code",
   "execution_count": null,
   "id": "a8bb6622-80f2-48b5-8f90-3a0986322b53",
   "metadata": {},
   "outputs": [],
   "source": [
    "def solve_day01pt1(inp):\n",
    "  \"\"\"Solve Day 1 part 1.\"\"\"\n",
    "  reindeers = list(map(lambda it: it.split(\"\\n\"), inp.split(\"\\n\\n\")))\n",
    "  for idx, r in enumerate(reindeers):\n",
    "    r = list(map(int, r))\n",
    "    reindeers[idx] = r\n",
    "  #print(reindeers)\n",
    "  return max(map(sum, reindeers))"
   ]
  },
  {
   "cell_type": "code",
   "execution_count": null,
   "id": "b7792187-1306-4d1b-be1d-eaad549eb9a6",
   "metadata": {},
   "outputs": [],
   "source": [
    "#log.setLevel(logging.DEBUG)\n",
    "expected = 24_000\n",
    "result = solve_day01pt1(tests)\n",
    "aoc.assert_msg(f\"test solve day 1 part 1 expected={expected} result={result}\", result == expected)"
   ]
  },
  {
   "cell_type": "code",
   "execution_count": null,
   "id": "c1132b4b-328d-4e25-a126-67c22edba7a3",
   "metadata": {},
   "outputs": [],
   "source": [
    "ins = aoc.read_file_to_str(\"./in/day01.in\").strip()\n",
    "out = solve_day01pt1(ins)\n",
    "print(\"day 1 part 1 output:\", out)"
   ]
  },
  {
   "cell_type": "code",
   "execution_count": null,
   "id": "3ebc6449-a447-48b6-a0b3-c81b715f98a2",
   "metadata": {},
   "outputs": [],
   "source": [
    "print(\"Day 1 part 2\")"
   ]
  },
  {
   "cell_type": "code",
   "execution_count": null,
   "id": "2cb88678-2038-452d-8bd4-0c89695f1f5e",
   "metadata": {},
   "outputs": [],
   "source": [
    "def solve_day01pt2(inp):\n",
    "  \"\"\"Solve Day 1 part 2.\"\"\"\n",
    "  reindeers = list(map(lambda it: it.split(\"\\n\"), inp.split(\"\\n\\n\")))\n",
    "  for idx, r in enumerate(reindeers):\n",
    "    r = list(map(int, r))\n",
    "    reindeers[idx] = r\n",
    "  reindeers = map(sum, reindeers)\n",
    "  top3 = sorted(reindeers, reverse=True)[0:3]\n",
    "  return sum(top3)"
   ]
  },
  {
   "cell_type": "code",
   "execution_count": null,
   "id": "554e9e1f-88cb-4bda-94d1-7183b540350a",
   "metadata": {},
   "outputs": [],
   "source": [
    "expected = 45000\n",
    "result = solve_day01pt2(tests)\n",
    "aoc.assert_msg(f\"test solve day 1 part 2 expected={expected} result={result}\", result == expected)"
   ]
  },
  {
   "cell_type": "code",
   "execution_count": null,
   "id": "15409b7c-02c3-4474-9e3c-091d017c274e",
   "metadata": {},
   "outputs": [],
   "source": [
    "out = solve_day01pt2(ins)\n",
    "print(\"day 1 part 2 output:\", out)"
   ]
  },
  {
   "cell_type": "markdown",
   "id": "ca570d86-a913-40ad-b620-62fa3712234f",
   "metadata": {},
   "source": [
    "### --- Day 2: Rock Paper Scissors ---"
   ]
  },
  {
   "cell_type": "code",
   "execution_count": null,
   "id": "f67c7469-ad5f-48f5-81ec-2067050d6822",
   "metadata": {},
   "outputs": [],
   "source": [
    "tests = \"\"\"\n",
    "A Y\n",
    "B X\n",
    "C Z\n",
    "\"\"\".strip()"
   ]
  },
  {
   "cell_type": "code",
   "execution_count": null,
   "id": "ea56de63-2b3b-4bce-832f-7f4cfd79d49e",
   "metadata": {},
   "outputs": [],
   "source": [
    "values = {'X': 1, 'Y': 2, 'Z': 3}\n",
    "outcomes = {\n",
    "  'A': {'X': 3, 'Y': 6, 'Z': 0},\n",
    "  'B': {'X': 0, 'Y': 3, 'Z': 6},\n",
    "  'C': {'X': 6, 'Y': 0, 'Z': 3},\n",
    "}\n",
    "\n",
    "def solve_day02pt1(inp):\n",
    "  \"\"\"Solve Day 2 part 1.\"\"\"\n",
    "  score = 0\n",
    "  for line in inp.splitlines():\n",
    "    [p1, p2] = line.split()\n",
    "    round_score = values[p2]  # item value score\n",
    "    round_score += outcomes[p1][p2]  # outcome score\n",
    "    score += round_score\n",
    "  return score"
   ]
  },
  {
   "cell_type": "code",
   "execution_count": null,
   "id": "8516bb20-77d9-4760-aeb0-7a36cb55752c",
   "metadata": {},
   "outputs": [],
   "source": [
    "print(\"Day 2 part 1\")\n",
    "expected = 15\n",
    "result = solve_day02pt1(tests)\n",
    "aoc.assert_msg(f\"test solve day 2 part 1 expected={expected} result={result}\", result == expected)"
   ]
  },
  {
   "cell_type": "code",
   "execution_count": null,
   "id": "1c2b1684-e009-415e-a7b4-5cb1674c9dd2",
   "metadata": {},
   "outputs": [],
   "source": [
    "ins = aoc.read_file_to_str(\"./in/day02.in\").strip()\n",
    "out = solve_day02pt1(ins)\n",
    "print(f\"day 2 part 1 output: {out}\")"
   ]
  },
  {
   "cell_type": "code",
   "execution_count": null,
   "id": "9cec4d08-d875-4ae1-9957-6dfe556d1f4e",
   "metadata": {},
   "outputs": [],
   "source": [
    "def solve_day02pt2(inp):\n",
    "  \"\"\"Solve Day 2 part 2.\"\"\"\n",
    "  outcome_tags = {'X': 0, 'Y': 3, 'Z': 6}  # who wins on pt 2\n",
    "  outcomes_inv = {}\n",
    "  for k, innerdict in outcomes.items():\n",
    "    outcomes_inv[k] = {v: k for k, v in innerdict.items()}  # keys and values swapped\n",
    "  score = 0\n",
    "  for line in inp.splitlines():\n",
    "    [p1, o2] = line.split()\n",
    "    round_score = outcome_tags[o2]\n",
    "    p2 = outcomes_inv[p1][round_score]  # my item (player 2)\n",
    "    round_score += values[p2]  # outcome score\n",
    "    score += round_score\n",
    "  return score"
   ]
  },
  {
   "cell_type": "code",
   "execution_count": null,
   "id": "fd3e96a8-f415-42be-a827-54f750b00a2c",
   "metadata": {},
   "outputs": [],
   "source": [
    "print(\"Day 2 part 2\")\n",
    "expected = 12\n",
    "result = solve_day02pt2(tests)\n",
    "aoc.assert_msg(f\"test solve day 2 part 2 expected={expected} result={result}\", result == expected)"
   ]
  },
  {
   "cell_type": "code",
   "execution_count": null,
   "id": "a915c403-2ba2-4d0e-ac25-017852b2393c",
   "metadata": {},
   "outputs": [],
   "source": [
    "out = solve_day02pt2(ins)\n",
    "print(f\"day 2 part 2 output: {out}\")"
   ]
  }
 ],
 "metadata": {
  "kernelspec": {
   "display_name": "Python 3 (ipykernel)",
   "language": "python",
   "name": "python3"
  },
  "language_info": {
   "codemirror_mode": {
    "name": "ipython",
    "version": 3
   },
   "file_extension": ".py",
   "mimetype": "text/x-python",
   "name": "python",
   "nbconvert_exporter": "python",
   "pygments_lexer": "ipython3",
   "version": "3.10.8"
  }
 },
 "nbformat": 4,
 "nbformat_minor": 5
}
