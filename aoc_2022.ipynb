{
 "cells": [
  {
   "cell_type": "markdown",
   "id": "084daaf7-bac8-42d9-935f-73dfc967a9fa",
   "metadata": {},
   "source": [
    "# Advent of Code 2022\n",
    "See [adventofcode](https://adventofcode.com/2022) original website.\n",
    "\n",
    "This solution (Jupyter lab 3.5.0; python 3.10) by kannix68, @ 2022-12.  \\\n",
    "Using anaconda distro, conda v22.9.0.  \\\n",
    "Tested and run on MacOS v10.14.6 \"Mojave\".\n",
    "\n",
    "Reddit [r/adventofcode](https://www.reddit.com/r/adventofcode)"
   ]
  },
  {
   "cell_type": "code",
   "execution_count": null,
   "id": "0097dc88-bc5f-4863-909f-d1bb1ebf8a73",
   "metadata": {},
   "outputs": [],
   "source": [
    "import copy\n",
    "import itertools\n",
    "import logging\n",
    "import re\n",
    "import sys\n",
    "import time\n",
    "\n",
    "from collections import defaultdict\n",
    "\n",
    "import numpy as np\n",
    "import pandas as pd\n",
    "\n",
    "import pylib.aochelper as aoc\n",
    "from pylib.aochelper import map_list as mapl\n",
    "from pylib.aochelper import filter_list as filterl\n",
    "\n",
    "print(\"Python version:\", sys.version)\n",
    "print(\"Version info:\", sys.version_info)\n",
    "\n",
    "log = aoc.getLogger(__name__)\n",
    "print(f\"Initial log-level={aoc.getLogLevelName(log.getEffectiveLevel())}.\")"
   ]
  },
  {
   "cell_type": "markdown",
   "id": "bc2c3b28-331a-4d8b-8a34-51ce061fb0b5",
   "metadata": {},
   "source": [
    "## Problem domain code"
   ]
  },
  {
   "cell_type": "markdown",
   "id": "cf2fb700-a61a-4c46-ba70-b6418c3848b8",
   "metadata": {},
   "source": [
    "### --- Day 1: Calorie Counting ---"
   ]
  },
  {
   "cell_type": "code",
   "execution_count": null,
   "id": "8fd00216-fca9-45eb-a783-23eb8bc173b8",
   "metadata": {},
   "outputs": [],
   "source": [
    "print(\"Day 1\")\n",
    "\n",
    "tests = \"\"\"\n",
    "1000\n",
    "2000\n",
    "3000\n",
    "\n",
    "4000\n",
    "\n",
    "5000\n",
    "6000\n",
    "\n",
    "7000\n",
    "8000\n",
    "9000\n",
    "\n",
    "10000\n",
    "\"\"\".strip()"
   ]
  },
  {
   "cell_type": "code",
   "execution_count": null,
   "id": "a8bb6622-80f2-48b5-8f90-3a0986322b53",
   "metadata": {},
   "outputs": [],
   "source": [
    "def solve_day01pt1(inp):\n",
    "  \"\"\"Solve Day 1 part 1.\"\"\"\n",
    "  reindeers = list(map(lambda it: it.split(\"\\n\"), inp.split(\"\\n\\n\")))\n",
    "  for idx, r in enumerate(reindeers):\n",
    "    r = list(map(int, r))\n",
    "    reindeers[idx] = r\n",
    "  #print(reindeers)\n",
    "  return max(map(sum, reindeers))"
   ]
  },
  {
   "cell_type": "code",
   "execution_count": null,
   "id": "b7792187-1306-4d1b-be1d-eaad549eb9a6",
   "metadata": {},
   "outputs": [],
   "source": [
    "#log.setLevel(logging.DEBUG)\n",
    "expected = 24_000\n",
    "result = solve_day01pt1(tests)\n",
    "aoc.assert_msg(f\"test solve day 1 part 1 expected={expected} result={result}\", result == expected)"
   ]
  },
  {
   "cell_type": "code",
   "execution_count": null,
   "id": "c1132b4b-328d-4e25-a126-67c22edba7a3",
   "metadata": {},
   "outputs": [],
   "source": [
    "ins = aoc.read_file_to_str(\"./in/day01.in\").strip()\n",
    "out = solve_day01pt1(ins)\n",
    "print(\"day 1 part 1 output:\", out)"
   ]
  },
  {
   "cell_type": "code",
   "execution_count": null,
   "id": "3ebc6449-a447-48b6-a0b3-c81b715f98a2",
   "metadata": {},
   "outputs": [],
   "source": [
    "print(\"Day 1 part 2\")"
   ]
  },
  {
   "cell_type": "code",
   "execution_count": null,
   "id": "2cb88678-2038-452d-8bd4-0c89695f1f5e",
   "metadata": {},
   "outputs": [],
   "source": [
    "def solve_day01pt2(inp):\n",
    "  \"\"\"Solve Day 1 part 2.\"\"\"\n",
    "  reindeers = list(map(lambda it: it.split(\"\\n\"), inp.split(\"\\n\\n\")))\n",
    "  for idx, r in enumerate(reindeers):\n",
    "    r = list(map(int, r))\n",
    "    reindeers[idx] = r\n",
    "  reindeers = map(sum, reindeers)\n",
    "  top3 = sorted(reindeers, reverse=True)[0:3]\n",
    "  return sum(top3)"
   ]
  },
  {
   "cell_type": "code",
   "execution_count": null,
   "id": "554e9e1f-88cb-4bda-94d1-7183b540350a",
   "metadata": {},
   "outputs": [],
   "source": [
    "expected = 45000\n",
    "result = solve_day01pt2(tests)\n",
    "aoc.assert_msg(f\"test solve day 1 part 2 expected={expected} result={result}\", result == expected)"
   ]
  },
  {
   "cell_type": "code",
   "execution_count": null,
   "id": "15409b7c-02c3-4474-9e3c-091d017c274e",
   "metadata": {},
   "outputs": [],
   "source": [
    "out = solve_day01pt2(ins)\n",
    "print(\"day 1 part 2 output:\", out)"
   ]
  },
  {
   "cell_type": "markdown",
   "id": "ca570d86-a913-40ad-b620-62fa3712234f",
   "metadata": {},
   "source": [
    "### --- Day 2: Rock Paper Scissors ---"
   ]
  },
  {
   "cell_type": "code",
   "execution_count": null,
   "id": "f67c7469-ad5f-48f5-81ec-2067050d6822",
   "metadata": {},
   "outputs": [],
   "source": [
    "tests = \"\"\"\n",
    "A Y\n",
    "B X\n",
    "C Z\n",
    "\"\"\".strip()"
   ]
  },
  {
   "cell_type": "code",
   "execution_count": null,
   "id": "ea56de63-2b3b-4bce-832f-7f4cfd79d49e",
   "metadata": {},
   "outputs": [],
   "source": [
    "values = {'X': 1, 'Y': 2, 'Z': 3}\n",
    "outcomes = {\n",
    "  'A': {'X': 3, 'Y': 6, 'Z': 0},\n",
    "  'B': {'X': 0, 'Y': 3, 'Z': 6},\n",
    "  'C': {'X': 6, 'Y': 0, 'Z': 3},\n",
    "}\n",
    "\n",
    "def solve_day02pt1(inp):\n",
    "  \"\"\"Solve Day 2 part 1.\"\"\"\n",
    "  score = 0\n",
    "  for line in inp.splitlines():\n",
    "    [p1, p2] = line.split()\n",
    "    round_score = values[p2]  # item value score\n",
    "    round_score += outcomes[p1][p2]  # outcome score\n",
    "    score += round_score\n",
    "  return score"
   ]
  },
  {
   "cell_type": "code",
   "execution_count": null,
   "id": "8516bb20-77d9-4760-aeb0-7a36cb55752c",
   "metadata": {},
   "outputs": [],
   "source": [
    "print(\"Day 2 part 1\")\n",
    "expected = 15\n",
    "result = solve_day02pt1(tests)\n",
    "aoc.assert_msg(f\"test solve day 2 part 1 expected={expected} result={result}\", result == expected)"
   ]
  },
  {
   "cell_type": "code",
   "execution_count": null,
   "id": "1c2b1684-e009-415e-a7b4-5cb1674c9dd2",
   "metadata": {},
   "outputs": [],
   "source": [
    "ins = aoc.read_file_to_str(\"./in/day02.in\").strip()\n",
    "out = solve_day02pt1(ins)\n",
    "print(f\"day 2 part 1 output: {out}\")"
   ]
  },
  {
   "cell_type": "code",
   "execution_count": null,
   "id": "9cec4d08-d875-4ae1-9957-6dfe556d1f4e",
   "metadata": {},
   "outputs": [],
   "source": [
    "def solve_day02pt2(inp):\n",
    "  \"\"\"Solve Day 2 part 2.\"\"\"\n",
    "  outcome_tags = {'X': 0, 'Y': 3, 'Z': 6}  # who wins on pt 2\n",
    "  outcomes_inv = {}\n",
    "  for k, innerdict in outcomes.items():\n",
    "    outcomes_inv[k] = {v: k for k, v in innerdict.items()}  # keys and values swapped\n",
    "  score = 0\n",
    "  for line in inp.splitlines():\n",
    "    [p1, o2] = line.split()\n",
    "    round_score = outcome_tags[o2]\n",
    "    p2 = outcomes_inv[p1][round_score]  # my item (player 2)\n",
    "    round_score += values[p2]  # outcome score\n",
    "    score += round_score\n",
    "  return score"
   ]
  },
  {
   "cell_type": "code",
   "execution_count": null,
   "id": "fd3e96a8-f415-42be-a827-54f750b00a2c",
   "metadata": {},
   "outputs": [],
   "source": [
    "print(\"Day 2 part 2\")\n",
    "expected = 12\n",
    "result = solve_day02pt2(tests)\n",
    "aoc.assert_msg(f\"test solve day 2 part 2 expected={expected} result={result}\", result == expected)"
   ]
  },
  {
   "cell_type": "code",
   "execution_count": null,
   "id": "a915c403-2ba2-4d0e-ac25-017852b2393c",
   "metadata": {},
   "outputs": [],
   "source": [
    "out = solve_day02pt2(ins)\n",
    "print(f\"day 2 part 2 output: {out}\")"
   ]
  },
  {
   "cell_type": "markdown",
   "id": "1c8e7e76-515d-4603-8e2e-789c86479963",
   "metadata": {},
   "source": [
    "### --- Day 3: Rucksack Reorganization ---"
   ]
  },
  {
   "cell_type": "code",
   "execution_count": null,
   "id": "46fbac85-57c5-4800-bdf4-57e4caa5fd78",
   "metadata": {},
   "outputs": [],
   "source": [
    "tests = \"\"\"\n",
    "vJrwpWtwJgWrhcsFMMfFFhFp\n",
    "jqHRNqRjqzjGDLGLrsFMfFZSrLrFZsSL\n",
    "PmmdzqPrVvPwwTWBwg\n",
    "wMqvLMZHhHMvwLHjbvcjnnSBnvTQFn\n",
    "ttgJtRGJQctTZtZT\n",
    "CrZsJsPPZsGzwwsLwLmpwMDw\n",
    "\"\"\".strip()"
   ]
  },
  {
   "cell_type": "code",
   "execution_count": null,
   "id": "63779ca4-4a46-4188-b488-90c59063977e",
   "metadata": {},
   "outputs": [],
   "source": [
    "def split_str_halfs(s):\n",
    "  \"\"\"Split a string in two of equel length\"\"\"\n",
    "  pos = len(s)//2\n",
    "  return [s[:pos], s[pos:]]\n",
    "\n",
    "def solve_day03pt1(inp):\n",
    "  \"\"\"Solve Day 3 part 1.\"\"\"\n",
    "  score = 0\n",
    "  ofst_lower = ord(\"a\") - 1\n",
    "  ofst_upper = ord(\"A\") - 27\n",
    "  for line in inp.splitlines():\n",
    "    sh1, sh2 = split_str_halfs(line)\n",
    "    #[sh1, sh2] |> print\n",
    "    freqh1, freqh2 = [defaultdict(int), defaultdict(int)]\n",
    "    for c in sh1:\n",
    "      freqh1[c] += 1\n",
    "    for c in sh2:\n",
    "      freqh2[c] += 1\n",
    "    isct = set(freqh1.keys()).intersection(set(freqh2.keys()))\n",
    "    assert len(isct) == 1\n",
    "    isct = list(isct)[0]\n",
    "    if isct.isupper():\n",
    "      prio = ord(isct) - ofst_upper\n",
    "    else:\n",
    "      prio = ord(isct) - ofst_lower\n",
    "    score += prio\n",
    "    #f\"set-intersection={isct}, prio={prio}\" |> print\n",
    "  return score"
   ]
  },
  {
   "cell_type": "code",
   "execution_count": null,
   "id": "07433ed8-2883-4066-8e2c-d163e47acce5",
   "metadata": {},
   "outputs": [],
   "source": [
    "print(\"Day 3 part 1\")\n",
    "expected = 157\n",
    "result = solve_day03pt1(tests)\n",
    "aoc.assert_msg(f\"test solve day 3 part 1 expected={expected} result={result}\", result == expected)"
   ]
  },
  {
   "cell_type": "code",
   "execution_count": null,
   "id": "f09ae16c-f29d-4a33-accd-163bea6468cd",
   "metadata": {},
   "outputs": [],
   "source": [
    "ins = aoc.read_file_to_str(\"./in/day03.in\").strip()\n",
    "out = solve_day03pt1(ins)\n",
    "print(f\"day 3 part 1 output: {out}\")"
   ]
  },
  {
   "cell_type": "code",
   "execution_count": null,
   "id": "30f805a2-cf94-4491-9dea-d401cb0332c6",
   "metadata": {},
   "outputs": [],
   "source": [
    "def solve_day03pt2(inp):\n",
    "  \"\"\"Solve Day 3 part 2.\"\"\"\n",
    "  score = 0\n",
    "  ofst_lower = ord(\"a\") - 1\n",
    "  ofst_upper = ord(\"A\") - 27\n",
    "  grp = []\n",
    "  for idx, line in enumerate(inp.splitlines()):\n",
    "    grp.append(line)\n",
    "    if len(grp) == 3:\n",
    "      tgtset = set()\n",
    "      for idx, memb in enumerate(grp):\n",
    "        freqs = defaultdict(int)\n",
    "        for c in memb:\n",
    "          freqs[c] += 1\n",
    "        if idx==0:\n",
    "          tgtset = set(freqs.keys())\n",
    "        else:\n",
    "          tgtset = tgtset.intersection(freqs.keys())\n",
    "      grp = []\n",
    "      assert len(tgtset) == 1\n",
    "      un = list(tgtset)[0]\n",
    "      if un.isupper():\n",
    "        prio = ord(un) - ofst_upper\n",
    "      else:\n",
    "        prio = ord(un) - ofst_lower\n",
    "      #f\"grp set-intersection={tgtset}, prio={prio}\" |> print\n",
    "      score += prio\n",
    "  assert idx > 0 \n",
    "  assert (idx+1) % 3 == 0\n",
    "  return score"
   ]
  },
  {
   "cell_type": "code",
   "execution_count": null,
   "id": "b9719cd3-7dbf-4311-a578-429b804f13d1",
   "metadata": {},
   "outputs": [],
   "source": [
    "print(\"Day 3 part 2\")\n",
    "expected = 70\n",
    "result = solve_day03pt2(tests)\n",
    "aoc.assert_msg(f\"test solve day 3 part 2 expected={expected} result={result}\", result == expected)"
   ]
  },
  {
   "cell_type": "code",
   "execution_count": null,
   "id": "2875d020-462b-4cd1-a600-da82033c72b3",
   "metadata": {},
   "outputs": [],
   "source": [
    "out = solve_day03pt2(ins)\n",
    "print(f\"day 3 part 2 output: {out}\")"
   ]
  },
  {
   "cell_type": "markdown",
   "id": "3b763f0a-0b10-4b41-94e2-a1b985f227f8",
   "metadata": {},
   "source": [
    "### --- Day 4: Camp Cleanup ---"
   ]
  },
  {
   "cell_type": "code",
   "execution_count": null,
   "id": "4eaca35a-279d-4c40-af69-e176a8696dc7",
   "metadata": {},
   "outputs": [],
   "source": [
    "day = \"Day 4\"\n",
    "symb = \"day04\"\n",
    "part = \"part 1\"\n",
    "tests = \"\"\"\n",
    "2-4,6-8\n",
    "2-3,4-5\n",
    "5-7,7-9\n",
    "2-8,3-7\n",
    "6-6,4-6\n",
    "2-6,4-8\n",
    "\"\"\".strip()"
   ]
  },
  {
   "cell_type": "code",
   "execution_count": null,
   "id": "a9ef9835-8c58-47eb-b5eb-854a66668cee",
   "metadata": {},
   "outputs": [],
   "source": [
    "def has_fully_containment(e1, e2):\n",
    "  return (e1[0] <= e2[0] and e1[1] >= e2[1]) or (e2[0] <= e1[0] and e2[1] >= e1[1])\n",
    "\n",
    "def solve_day04pt1(inp):\n",
    "  \"\"\"Solve Day 4 part 1.\"\"\"\n",
    "  score = 0\n",
    "  #pairs = []\n",
    "  for line in inp.splitlines():\n",
    "    elves = line.split(\",\")\n",
    "    elves = list(map(lambda it: list(map(int, it.split(\"-\"))), elves))\n",
    "    if has_fully_containment(elves[0], elves[1]):\n",
    "      #f\"{elves} has fully containment\" |> print\n",
    "      score += 1\n",
    "  #pairs |> print\n",
    "  return score"
   ]
  },
  {
   "cell_type": "code",
   "execution_count": null,
   "id": "8050eed5-e68c-4d68-a2af-64cd18769fa6",
   "metadata": {},
   "outputs": [],
   "source": [
    "print(f\"{day} {part}\")\n",
    "expected = 2\n",
    "result = solve_day04pt1(tests)\n",
    "aoc.assert_msg(f\"test solve {day} {part} expected={expected} result={result}\", result == expected)"
   ]
  },
  {
   "cell_type": "code",
   "execution_count": null,
   "id": "084b7740-2107-487f-b03d-b848255b43c5",
   "metadata": {},
   "outputs": [],
   "source": [
    "ins = aoc.read_file_to_str(f\"./in/{symb}.in\").strip()\n",
    "out = solve_day04pt1(ins)\n",
    "print(f\"{day} {part} output: {out}\")"
   ]
  },
  {
   "cell_type": "code",
   "execution_count": null,
   "id": "5d842503-e18c-4c8a-a66a-e4682108c7ea",
   "metadata": {},
   "outputs": [],
   "source": [
    "def has_overlap(e1, e2):\n",
    "  return (e1[1] >= e2[0] and e1[1] <= e2[1]) or (e2[1] >= e1[0] and e2[1] <= e1[1])\n",
    "\n",
    "def solve_day04pt2(inp):\n",
    "  \"\"\"Solve Day 4 part 2.\"\"\"\n",
    "  score = 0\n",
    "  for line in inp.splitlines():\n",
    "    elves = line.split(\",\")\n",
    "    elves = list(map(lambda it: list(map(int, it.split(\"-\"))), elves))\n",
    "    if has_overlap(elves[0], elves[1]):\n",
    "      #f\"{elves} has overlap\" |> print\n",
    "      score += 1\n",
    "  return score"
   ]
  },
  {
   "cell_type": "code",
   "execution_count": null,
   "id": "dd0d49f0-58f0-480c-9513-1d57dfb03379",
   "metadata": {},
   "outputs": [],
   "source": [
    "part = \"part 2\"\n",
    "expected = 4\n",
    "print(f\"{day} {part}\")\n",
    "result = solve_day04pt2(tests)\n",
    "aoc.assert_msg(f\"test solve {day} {part} expected={expected} result={result}\", result == expected)"
   ]
  },
  {
   "cell_type": "code",
   "execution_count": null,
   "id": "0b4e29ac-4878-4241-9936-f583618e8187",
   "metadata": {},
   "outputs": [],
   "source": [
    "ins = aoc.read_file_to_str(f\"./in/{symb}.in\").strip()\n",
    "out = solve_day04pt2(ins)\n",
    "print(f\"{day} {part} output: {out}\")"
   ]
  },
  {
   "cell_type": "markdown",
   "id": "f56fb056-d540-4240-b545-e9ca0641e196",
   "metadata": {},
   "source": [
    "### --- Day 5: Supply Stacks ---"
   ]
  },
  {
   "cell_type": "code",
   "execution_count": null,
   "id": "3114ea93-5702-4429-8119-aaa33f44dd0d",
   "metadata": {},
   "outputs": [],
   "source": [
    "day = \"Day 5\"\n",
    "symb = \"day05\"\n",
    "part = \"part 1\"\n",
    "tests = \"\"\"\n",
    "    [D]    \n",
    "[N] [C]    \n",
    "[Z] [M] [P]\n",
    " 1   2   3 \n",
    "\n",
    "move 1 from 2 to 1\n",
    "move 3 from 1 to 3\n",
    "move 2 from 2 to 1\n",
    "move 1 from 1 to 2\n",
    "\"\"\""
   ]
  },
  {
   "cell_type": "code",
   "execution_count": null,
   "id": "fe1fde38-9477-42d5-aae3-05da8247cf99",
   "metadata": {},
   "outputs": [],
   "source": [
    "def pop_n(l, n):\n",
    "  \"\"\"Pop n members from top of stack (list), return popped head and altered stack.\"\"\"\n",
    "  popped, popped_lst = [ l[-n:], l[0:len(l)-n] ]\n",
    "  return [popped, popped_lst]\n",
    "\n",
    "def push_n(l, data):\n",
    "  \"\"\"Push data (list) members to top of stack (list), return altered stack.\"\"\"\n",
    "  for elem in data:\n",
    "    l.append(elem)\n",
    "  return l\n",
    "\n",
    "def transpose_lol(lol):\n",
    "  \"\"\"Transpose a list-of-lists.\"\"\"\n",
    "  # short circuits at shortest nested list if table is jagged:\n",
    "  return list(map(list, zip(*lol)))\n",
    "\n",
    "def get_stacks(rows):\n",
    "  \"\"\"Take parsed rows from input string and pprocess into target data structure list-of-tacks.\"\"\"\n",
    "  stacks = transpose_lol(rows)\n",
    "  stacks = mapl(lambda it: list(reversed(it)), stacks)\n",
    "  for stack in stacks:\n",
    "    while stack[-1] == \"\":\n",
    "      stack.pop()\n",
    "  return stacks\n",
    "\n",
    "def play_stack_cmds(stacks, cmds):\n",
    "  \"\"\"Play the commands on stacks data.\"\"\"\n",
    "  for cmd in cmds:\n",
    "    anz, frm, to = cmd\n",
    "    hd, stacks[frm-1] = pop_n(stacks[frm-1], anz)\n",
    "    stacks[to-1] = push_n(stacks[to-1], reversed(hd))\n",
    "  return stacks"
   ]
  },
  {
   "cell_type": "code",
   "execution_count": null,
   "id": "f2e8d359-db68-4999-916d-fd49c2642b4a",
   "metadata": {},
   "outputs": [],
   "source": [
    "def solve_day05pt1(inp):\n",
    "  \"\"\"Solve Day 5 part 1.\"\"\"\n",
    "  chunk_size = 4\n",
    "  stacks = []\n",
    "  rows = []\n",
    "  cmds = []\n",
    "  #f\"inp=\\n{inp}\" |> print\n",
    "  for line in inp.split(\"\\n\"):\n",
    "    #f\"line=>{line}< len={len(line)}\" |> print\n",
    "    line += \" \"\n",
    "    if \"[\" in line:\n",
    "      llen = len(line)\n",
    "      row = [ line[i:i+chunk_size] for i in range(0, llen, chunk_size) ]\n",
    "      #f\"found row1={row}\" |> print\n",
    "      row = mapl(lambda it: it.replace(\"[\", \"\").replace(\"]\", \"\").strip(), row)\n",
    "      #f\"found row2={row}\" |> print\n",
    "      rows.append(row)\n",
    "    elif line.strip() == \"\":\n",
    "      #\"empty line found\" |> print\n",
    "      continue\n",
    "    elif \"move\" in line:\n",
    "      m = re.search(r\"^move (\\d+) from (\\d+) to (\\d+)\", line)\n",
    "      l = mapl(int, [m.group(1), m.group(2), m.group(3)])\n",
    "      cmds.append(l)\n",
    "    else:\n",
    "      #f\"unparsed line=>{line}<\" |> print\n",
    "      continue\n",
    "  stacks = get_stacks(rows)\n",
    "  #f\"initial_stacks=\\n{stacks}\" |> print\n",
    "  #f\"  cmds=\\n{cmds}\" |> print\n",
    "  stacks = play_stack_cmds(stacks, cmds)\n",
    "  result = \"\".join([stack.pop() for stack in stacks])\n",
    "  #f\"result={result}\" |> print\n",
    "  return result"
   ]
  },
  {
   "cell_type": "code",
   "execution_count": null,
   "id": "e8443e01-30bb-4d7f-b237-6a11a1f4c1b6",
   "metadata": {},
   "outputs": [],
   "source": [
    "print(f\"{day} {part}\")\n",
    "expected = \"CMZ\"\n",
    "result = solve_day05pt1(tests)\n",
    "aoc.assert_msg(f\"test solve {day} {part} expected={expected} result={result}\", result == expected)"
   ]
  },
  {
   "cell_type": "code",
   "execution_count": null,
   "id": "0ebfa4bd-f3ce-466d-9566-665a431cf752",
   "metadata": {},
   "outputs": [],
   "source": [
    "ins = aoc.read_file_to_str(f\"./in/{symb}.in\")\n",
    "out = solve_day05pt1(ins)\n",
    "print(f\"{day} {part} result: {out}\")"
   ]
  },
  {
   "cell_type": "code",
   "execution_count": null,
   "id": "0766b153-83c3-46ef-a87b-dcf8151d4336",
   "metadata": {},
   "outputs": [],
   "source": [
    "def play_stack_cmds_pt2(stacks, cmds):\n",
    "  \"\"\"Play the commands on stacks data, modified for part 2.\"\"\"\n",
    "  for cmd in cmds:\n",
    "    anz, frm, to = cmd\n",
    "    hd, stacks[frm-1] = pop_n(stacks[frm-1], anz)\n",
    "    stacks[to-1] = push_n(stacks[to-1], hd)  # changed, not reversed\n",
    "  return stacks"
   ]
  },
  {
   "cell_type": "code",
   "execution_count": null,
   "id": "9e04c65e-2642-4edd-9791-36501bfbcd36",
   "metadata": {},
   "outputs": [],
   "source": [
    "def solve_day05pt2(inp):\n",
    "  \"\"\"Solve Day 5 part 2.\"\"\"\n",
    "  chunk_size = 4\n",
    "  stacks = []\n",
    "  rows = []\n",
    "  cmds = []\n",
    "  for line in inp.split(\"\\n\"):\n",
    "    line += \" \"\n",
    "    if \"[\" in line:\n",
    "      llen = len(line)\n",
    "      row = [ line[i:i+chunk_size] for i in range(0, llen, chunk_size) ]\n",
    "      row = mapl(lambda it: it.replace(\"[\", \"\").replace(\"]\", \"\").strip(), row)\n",
    "      rows.append(row)\n",
    "    elif line.strip() == \"\":\n",
    "      continue\n",
    "    elif \"move\" in line:\n",
    "      m = re.search(r\"^move (\\d+) from (\\d+) to (\\d+)\", line)\n",
    "      l = mapl(int, [m.group(1), m.group(2), m.group(3)])\n",
    "      cmds.append(l)\n",
    "    else:\n",
    "      continue\n",
    "  stacks = get_stacks(rows)\n",
    "  stacks = play_stack_cmds_pt2(stacks, cmds)  # changed, pt2\n",
    "  result = \"\".join([stack.pop() for stack in stacks])\n",
    "  return result"
   ]
  },
  {
   "cell_type": "code",
   "execution_count": null,
   "id": "549b2d09-2d7c-413f-a11e-5ce0897afd7c",
   "metadata": {},
   "outputs": [],
   "source": [
    "part = \"part 2\"\n",
    "expected = \"MCD\"\n",
    "print(f\"{day} {part}\")\n",
    "result = solve_day05pt2(tests)\n",
    "aoc.assert_msg(f\"test solve {day} {part} expected={expected} result={result}\", result == expected)"
   ]
  },
  {
   "cell_type": "code",
   "execution_count": null,
   "id": "3e43289c-04e4-488e-8306-937356351d75",
   "metadata": {},
   "outputs": [],
   "source": [
    "ins = aoc.read_file_to_str(f\"./in/{symb}.in\")\n",
    "out = solve_day05pt2(ins)\n",
    "print(f\"{day} {part} output: {out}\")"
   ]
  }
 ],
 "metadata": {
  "kernelspec": {
   "display_name": "Python 3 (ipykernel)",
   "language": "python",
   "name": "python3"
  },
  "language_info": {
   "codemirror_mode": {
    "name": "ipython",
    "version": 3
   },
   "file_extension": ".py",
   "mimetype": "text/x-python",
   "name": "python",
   "nbconvert_exporter": "python",
   "pygments_lexer": "ipython3",
   "version": "3.10.8"
  }
 },
 "nbformat": 4,
 "nbformat_minor": 5
}
