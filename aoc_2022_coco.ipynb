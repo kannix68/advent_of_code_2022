{
 "cells": [
  {
   "cell_type": "markdown",
   "id": "4bc2c96b-06b4-4cd3-a7f1-90748a097356",
   "metadata": {},
   "source": [
    "# Advent of Code 2022\n",
    "\n",
    "This solution (Jupyter lab 3.5.0; coconut 2.1.1 on python 3.10.8) by kannix68, @ 2022-12.  \\\n",
    "Using anaconda distro, conda v22.9.0, and coconut language.  \\\n",
    "Tested and run on MacOS v10.14.6 \"Mojave\".\n",
    "\n",
    "Reddit Advent of Code [solution_megathreads - adventofcode](https://www.reddit.com/r/adventofcode/wiki/solution_megathreads#wiki_december_2021)"
   ]
  },
  {
   "cell_type": "code",
   "execution_count": null,
   "id": "f05b3cb2-6ebd-411b-9617-dc971d9adafe",
   "metadata": {},
   "outputs": [],
   "source": [
    "import copy\n",
    "import itertools\n",
    "import logging\n",
    "import re\n",
    "import sys\n",
    "import time\n",
    "\n",
    "from collections import defaultdict\n",
    "\n",
    "import numpy as np\n",
    "import pandas as pd\n",
    "\n",
    "import pylib.aochelper as aoc\n",
    "from pylib.aochelper import map_list as mapl\n",
    "from pylib.aochelper import filter_list as filterl\n",
    "\n",
    "f\"Python version: {sys.version}\" |> print\n",
    "f\"Version info: {sys.version_info}\" |> print\n",
    "\n",
    "log = aoc.getLogger(__name__)\n",
    "f\"Initial log-level={aoc.getLogLevelName(log.getEffectiveLevel())}.\" |> print"
   ]
  },
  {
   "cell_type": "markdown",
   "id": "92287b3d-33aa-4aad-af04-e92e08709ae8",
   "metadata": {},
   "source": [
    "## Problem domain code"
   ]
  },
  {
   "cell_type": "markdown",
   "id": "639bb8c3-48e4-4b86-abda-16415d7ef20d",
   "metadata": {},
   "source": [
    "### --- Day 1: Calorie Counting ---"
   ]
  },
  {
   "cell_type": "code",
   "execution_count": null,
   "id": "4ac75efe-3bba-4077-8bcb-004748123a6a",
   "metadata": {},
   "outputs": [],
   "source": [
    "\"Day 1\" |> print\n",
    "\n",
    "tests = \"\"\"\n",
    "1000\n",
    "2000\n",
    "3000\n",
    "\n",
    "4000\n",
    "\n",
    "5000\n",
    "6000\n",
    "\n",
    "7000\n",
    "8000\n",
    "9000\n",
    "\n",
    "10000\n",
    "\"\"\".strip()"
   ]
  },
  {
   "cell_type": "code",
   "execution_count": null,
   "id": "8a8ef40e-db5b-4a72-b1e7-6d384f74d9b5",
   "metadata": {},
   "outputs": [],
   "source": [
    "def solve_day01pt1(inp):\n",
    "  \"\"\"Solve Day 1 part 1.\"\"\"\n",
    "  reindeers = inp.split(\"\\n\\n\") |> fmap$( x -> x.split(\"\\n\") |> fmap$(int) )\n",
    "  #reindeers |> print\n",
    "  return reindeers |> map$(sum) |> max"
   ]
  },
  {
   "cell_type": "code",
   "execution_count": null,
   "id": "f4bcc5f8-f82c-40bd-8d90-3b314413c19b",
   "metadata": {},
   "outputs": [],
   "source": [
    "\"Day 1 part 1\" |> print\n",
    "expected = 24_000\n",
    "result = solve_day01pt1(tests)\n",
    "aoc.assert_msg(f\"test solve day 1 part 1 expected={expected} result={result}\", result == expected)"
   ]
  },
  {
   "cell_type": "code",
   "execution_count": null,
   "id": "c522cf3f-d94d-4f72-b8b4-c82ef26d5bc1",
   "metadata": {},
   "outputs": [],
   "source": [
    "ins = aoc.read_file_to_str(\"./in/day01.in\").strip()\n",
    "out = solve_day01pt1(ins)\n",
    "f\"day 1 part 1 output: {out}\" |> print"
   ]
  },
  {
   "cell_type": "code",
   "execution_count": null,
   "id": "b7c2a2e9-0664-4181-8c5f-f47b5d4ea1d5",
   "metadata": {},
   "outputs": [],
   "source": [
    "def solve_day01pt2(inp):\n",
    "  \"\"\"Solve Day 1 part 2.\"\"\"\n",
    "  reindeers = inp.split(\"\\n\\n\") |> fmap$( x -> x.split(\"\\n\") |> fmap$(int) )\n",
    "  top3 = reindeers |> fmap$(sum) |> sorted$(reverse=True) |> .[0:3]\n",
    "  return top3 |> sum"
   ]
  },
  {
   "cell_type": "code",
   "execution_count": null,
   "id": "e927ce82-5757-430b-a720-7c99178b57cb",
   "metadata": {},
   "outputs": [],
   "source": [
    "\"Day 1 part 2\" |> print\n",
    "expected = 45_000\n",
    "result = solve_day01pt2(tests)\n",
    "aoc.assert_msg(f\"test solve day 1 part 1 expected={expected} result={result}\", result == expected)"
   ]
  },
  {
   "cell_type": "code",
   "execution_count": null,
   "id": "d4a1f828-4502-43f8-a742-11f1f4d81aef",
   "metadata": {},
   "outputs": [],
   "source": [
    "out = solve_day01pt2(ins)\n",
    "f\"day 1 part 2 output: {out}\" |> print"
   ]
  },
  {
   "cell_type": "markdown",
   "id": "d6622916-1e79-4bc0-bb97-2f4e612f612d",
   "metadata": {},
   "source": [
    "### --- Day 2: Rock Paper Scissors ---"
   ]
  },
  {
   "cell_type": "code",
   "execution_count": null,
   "id": "9ff1a147-0431-43ab-be77-3aedddb510fb",
   "metadata": {},
   "outputs": [],
   "source": [
    "tests = \"\"\"\n",
    "A Y\n",
    "B X\n",
    "C Z\n",
    "\"\"\".strip()"
   ]
  },
  {
   "cell_type": "code",
   "execution_count": null,
   "id": "af3a32f9-eb12-441c-bfa3-ada25dab054f",
   "metadata": {},
   "outputs": [],
   "source": [
    "values = {'X': 1, 'Y': 2, 'Z': 3}\n",
    "outcomes = {\n",
    "  'A': {'X': 3, 'Y': 6, 'Z': 0},\n",
    "  'B': {'X': 0, 'Y': 3, 'Z': 6},\n",
    "  'C': {'X': 6, 'Y': 0, 'Z': 3},\n",
    "}\n",
    "\n",
    "def solve_day02pt1(inp):\n",
    "  \"\"\"Solve Day 2 part 1.\"\"\"\n",
    "  score = 0\n",
    "  for line in inp.splitlines():\n",
    "    [p1, p2] = line.split()\n",
    "    #f\"[p1, p2] = {[p1, p2]}\" |> print\n",
    "    round_score = values[p2]  # item value score\n",
    "    round_score += outcomes[p1][p2]  # outcome score\n",
    "    #f\"adding round score {round_score}\" |> print\n",
    "    score += round_score\n",
    "  return score"
   ]
  },
  {
   "cell_type": "code",
   "execution_count": null,
   "id": "72bfb280-0567-4d63-bb7f-485fbb63f90d",
   "metadata": {},
   "outputs": [],
   "source": [
    "\"Day 2 part 1\" |> print\n",
    "expected = 15\n",
    "result = solve_day02pt1(tests)\n",
    "aoc.assert_msg(f\"test solve day 2 part 1 expected={expected} result={result}\", result == expected)"
   ]
  },
  {
   "cell_type": "code",
   "execution_count": null,
   "id": "40b74525-ede4-4320-a2c2-5b1c83905a62",
   "metadata": {},
   "outputs": [],
   "source": [
    "ins = aoc.read_file_to_str(\"./in/day02.in\").strip()\n",
    "out = solve_day02pt1(ins)\n",
    "f\"day 2 part 1 output: {out}\" |> print"
   ]
  },
  {
   "cell_type": "code",
   "execution_count": null,
   "id": "6010e577-8372-454b-9d15-200b8f8d2cb4",
   "metadata": {},
   "outputs": [],
   "source": [
    "def solve_day02pt2(inp):\n",
    "  \"\"\"Solve Day 2 part 2.\"\"\"\n",
    "  outcome_tags = {'X': 0, 'Y': 3, 'Z': 6}  # who wins on pt 2\n",
    "  outcomes_inv = {}\n",
    "  for k, innerdict in outcomes.items():\n",
    "    #outcomes_inv[k] = dict((v, k) for k, v in innerdict.items())  # keys and values swapped\n",
    "    outcomes_inv[k] = {v: k for k, v in innerdict.items()}  # keys and values swapped\n",
    "  #f\"outcomes_inverse={outcomes_inv}\" |> print\n",
    "  score = 0\n",
    "  for line in inp.splitlines():\n",
    "    [p1, o2] = line.split()\n",
    "    round_score = outcome_tags[o2]\n",
    "    p2 = outcomes_inv[p1][round_score]  # my item (player 2)\n",
    "    round_score += values[p2]  # outcome score\n",
    "    #f\"adding round score {round_score} from item={p2}\" |> print\n",
    "    score += round_score\n",
    "  return score"
   ]
  },
  {
   "cell_type": "code",
   "execution_count": null,
   "id": "07fe82a6-4ab3-46f1-b969-d17db1c8a5f2",
   "metadata": {},
   "outputs": [],
   "source": [
    "\"Day 2 part 2\" |> print\n",
    "expected = 12\n",
    "result = solve_day02pt2(tests)\n",
    "aoc.assert_msg(f\"test solve day 2 part 2 expected={expected} result={result}\", result == expected)"
   ]
  },
  {
   "cell_type": "code",
   "execution_count": null,
   "id": "2a167277-a07a-4906-be3b-1cbfc74d3d5a",
   "metadata": {},
   "outputs": [],
   "source": [
    "out = solve_day02pt2(ins)\n",
    "f\"day 2 part 2 output: {out}\" |> print"
   ]
  },
  {
   "cell_type": "markdown",
   "id": "cbedc2a6-af5e-4c6c-9183-63c5b283363c",
   "metadata": {},
   "source": [
    "### --- Day 3: Rucksack Reorganization ---"
   ]
  },
  {
   "cell_type": "code",
   "execution_count": null,
   "id": "2c8ed2fd-fb92-4531-9e15-7821cf47c16d",
   "metadata": {},
   "outputs": [],
   "source": [
    "tests = \"\"\"\n",
    "vJrwpWtwJgWrhcsFMMfFFhFp\n",
    "jqHRNqRjqzjGDLGLrsFMfFZSrLrFZsSL\n",
    "PmmdzqPrVvPwwTWBwg\n",
    "wMqvLMZHhHMvwLHjbvcjnnSBnvTQFn\n",
    "ttgJtRGJQctTZtZT\n",
    "CrZsJsPPZsGzwwsLwLmpwMDw\n",
    "\"\"\".strip()"
   ]
  },
  {
   "cell_type": "code",
   "execution_count": null,
   "id": "ee6db01c-1c48-4479-8711-2a11bbd2f697",
   "metadata": {},
   "outputs": [],
   "source": [
    "def split_str_halfs(s):\n",
    "  \"\"\"Split a string in two of equel length\"\"\"\n",
    "  pos = len(s)//2\n",
    "  return [s[:pos], s[pos:]]\n",
    "\n",
    "def solve_day03pt1(inp):\n",
    "  \"\"\"Solve Day 3 part 1.\"\"\"\n",
    "  score = 0\n",
    "  ofst_lower = ord(\"a\") - 1\n",
    "  ofst_upper = ord(\"A\") - 27\n",
    "  for line in inp.splitlines():\n",
    "    sh1, sh2 = split_str_halfs(line)\n",
    "    #[sh1, sh2] |> print\n",
    "    freqh1, freqh2 = [defaultdict(int), defaultdict(int)]\n",
    "    for c in sh1:\n",
    "      freqh1[c] += 1\n",
    "    for c in sh2:\n",
    "      freqh2[c] += 1\n",
    "    isct = set(freqh1.keys()).intersection(set(freqh2.keys()))\n",
    "    assert len(isct) == 1\n",
    "    isct = list(isct)[0]\n",
    "    if isct.isupper():\n",
    "      prio = ord(isct) - ofst_upper\n",
    "    else:\n",
    "      prio = ord(isct) - ofst_lower\n",
    "    score += prio\n",
    "    #f\"set-intersection={isct}, prio={prio}\" |> print\n",
    "  return score"
   ]
  },
  {
   "cell_type": "code",
   "execution_count": null,
   "id": "eb41a4a2-2f58-488f-a2b4-2d36e7afa553",
   "metadata": {},
   "outputs": [],
   "source": [
    "\"Day 3 part 1\" |> print\n",
    "expected = 157\n",
    "result = solve_day03pt1(tests)\n",
    "aoc.assert_msg(f\"test solve day 3 part 1 expected={expected} result={result}\", result == expected)"
   ]
  },
  {
   "cell_type": "code",
   "execution_count": null,
   "id": "89e38ea5-85c7-49e9-abb3-4ec3d52a7d49",
   "metadata": {},
   "outputs": [],
   "source": [
    "ins = aoc.read_file_to_str(\"./in/day03.in\").strip()\n",
    "out = solve_day03pt1(ins)\n",
    "f\"day 3 part 1 output: {out}\" |> print"
   ]
  },
  {
   "cell_type": "code",
   "execution_count": null,
   "id": "f07074e9-c6dd-42ac-988f-cf889b507996",
   "metadata": {},
   "outputs": [],
   "source": [
    "def solve_day03pt2(inp):\n",
    "  \"\"\"Solve Day 3 part 2.\"\"\"\n",
    "  score = 0\n",
    "  ofst_lower = ord(\"a\") - 1\n",
    "  ofst_upper = ord(\"A\") - 27\n",
    "  grp = []\n",
    "  for idx, line in enumerate(inp.splitlines()):\n",
    "    grp.append(line)\n",
    "    if len(grp) == 3:\n",
    "      tgtset = set()\n",
    "      for idx, memb in enumerate(grp):\n",
    "        freqs = defaultdict(int)\n",
    "        for c in memb:\n",
    "          freqs[c] += 1\n",
    "        if idx==0:\n",
    "          tgtset = set(freqs.keys())\n",
    "        else:\n",
    "          tgtset = tgtset.intersection(freqs.keys())\n",
    "      grp = []\n",
    "      assert len(tgtset) == 1\n",
    "      un = list(tgtset)[0]\n",
    "      if un.isupper():\n",
    "        prio = ord(un) - ofst_upper\n",
    "      else:\n",
    "        prio = ord(un) - ofst_lower\n",
    "      #f\"grp set-intersection={tgtset}, prio={prio}\" |> print\n",
    "      score += prio\n",
    "  assert idx > 0 \n",
    "  assert (idx+1) % 3 == 0\n",
    "  return score"
   ]
  },
  {
   "cell_type": "code",
   "execution_count": null,
   "id": "320ce6fa-2d8a-407e-9ba5-55f2d5755ec1",
   "metadata": {},
   "outputs": [],
   "source": [
    "\"Day 3 part 2\" |> print\n",
    "expected = 70\n",
    "result = solve_day03pt2(tests)\n",
    "aoc.assert_msg(f\"test solve day 3 part 2 expected={expected} result={result}\", result == expected)"
   ]
  },
  {
   "cell_type": "code",
   "execution_count": null,
   "id": "692fec0e-937c-43d9-8e05-9d1d5ae432f3",
   "metadata": {},
   "outputs": [],
   "source": [
    "out = solve_day03pt2(ins)\n",
    "f\"day 3 part 2 output: {out}\" |> print"
   ]
  },
  {
   "cell_type": "markdown",
   "id": "cc9b442a-d3bd-4410-be8e-2dd3892ac3fb",
   "metadata": {},
   "source": [
    "### --- Day 4: Camp Cleanup ---"
   ]
  },
  {
   "cell_type": "code",
   "execution_count": null,
   "id": "b832751a-9454-4084-b105-df6a22832326",
   "metadata": {},
   "outputs": [],
   "source": [
    "day = \"Day 4\"\n",
    "symb = \"day04\"\n",
    "part = \"part 1\"\n",
    "tests = \"\"\"\n",
    "2-4,6-8\n",
    "2-3,4-5\n",
    "5-7,7-9\n",
    "2-8,3-7\n",
    "6-6,4-6\n",
    "2-6,4-8\n",
    "\"\"\".strip()"
   ]
  },
  {
   "cell_type": "code",
   "execution_count": null,
   "id": "1a42c294-f3fd-4641-a506-205a11433349",
   "metadata": {},
   "outputs": [],
   "source": [
    "def has_fully_containment(e1, e2):\n",
    "  return (e1[0] <= e2[0] and e1[1] >= e2[1]) or (e2[0] <= e1[0] and e2[1] >= e1[1])\n",
    "\n",
    "def solve_day04pt1(inp):\n",
    "  \"\"\"Solve Day 4 part 1.\"\"\"\n",
    "  score = 0\n",
    "  #pairs = []\n",
    "  for line in inp.splitlines():\n",
    "    elves = line.split(\",\")\n",
    "    elves = list(map(lambda it: list(map(int, it.split(\"-\"))), elves))\n",
    "    if has_fully_containment(elves[0], elves[1]):\n",
    "      #f\"{elves} has fully containment\" |> print\n",
    "      score += 1\n",
    "  #pairs |> print\n",
    "  return score"
   ]
  },
  {
   "cell_type": "code",
   "execution_count": null,
   "id": "45559264-0f1a-4a27-9558-b85b094842de",
   "metadata": {},
   "outputs": [],
   "source": [
    "f\"{day} {part}\" |> print\n",
    "expected = 2\n",
    "result = solve_day04pt1(tests)\n",
    "aoc.assert_msg(f\"test solve {day} {part} expected={expected} result={result}\", result == expected)"
   ]
  },
  {
   "cell_type": "code",
   "execution_count": null,
   "id": "24e35f15-cd0a-49aa-a6f8-a5650a351d15",
   "metadata": {},
   "outputs": [],
   "source": [
    "ins = aoc.read_file_to_str(f\"./in/{symb}.in\").strip()\n",
    "out = solve_day04pt1(ins)\n",
    "f\"{day} {part} output: {out}\" |> print"
   ]
  },
  {
   "cell_type": "code",
   "execution_count": null,
   "id": "62f02e00-814d-4de8-b68d-e76d77bbe9cc",
   "metadata": {},
   "outputs": [],
   "source": [
    "def has_overlap(e1, e2):\n",
    "  return (e1[1] >= e2[0] and e1[1] <= e2[1]) or (e2[1] >= e1[0] and e2[1] <= e1[1])\n",
    "\n",
    "def solve_day04pt2(inp):\n",
    "  \"\"\"Solve Day 4 part 2.\"\"\"\n",
    "  score = 0\n",
    "  for line in inp.splitlines():\n",
    "    elves = line.split(\",\")\n",
    "    elves = list(map(lambda it: list(map(int, it.split(\"-\"))), elves))\n",
    "    if has_overlap(elves[0], elves[1]):\n",
    "      #f\"{elves} has overlap\" |> print\n",
    "      score += 1\n",
    "  return score"
   ]
  },
  {
   "cell_type": "code",
   "execution_count": null,
   "id": "d60d9e53-521f-48f1-acef-26ba907876e2",
   "metadata": {},
   "outputs": [],
   "source": [
    "part = \"part 2\"\n",
    "expected = 4\n",
    "f\"{day} {part}\" |> print\n",
    "result = solve_day04pt2(tests)\n",
    "aoc.assert_msg(f\"test solve {day} {part} expected={expected} result={result}\", result == expected)"
   ]
  },
  {
   "cell_type": "code",
   "execution_count": null,
   "id": "00a60fcb-a7c5-4b4c-aa07-0d8ea6f76c51",
   "metadata": {},
   "outputs": [],
   "source": [
    "ins = aoc.read_file_to_str(f\"./in/{symb}.in\").strip()\n",
    "out = solve_day04pt2(ins)\n",
    "f\"{day} {part} output: {out}\" |> print"
   ]
  },
  {
   "cell_type": "markdown",
   "id": "9a9091f3-7688-4b1a-a877-75a163520ef9",
   "metadata": {},
   "source": [
    "### --- Day 5: Supply Stacks ---"
   ]
  },
  {
   "cell_type": "code",
   "execution_count": null,
   "id": "fb7f2386-7a33-45ab-b82a-b9fdb16eed88",
   "metadata": {},
   "outputs": [],
   "source": [
    "day = \"Day 5\"\n",
    "symb = \"day05\"\n",
    "part = \"part 1\"\n",
    "tests = \"\"\"\n",
    "    [D]    \n",
    "[N] [C]    \n",
    "[Z] [M] [P]\n",
    " 1   2   3 \n",
    "\n",
    "move 1 from 2 to 1\n",
    "move 3 from 1 to 3\n",
    "move 2 from 2 to 1\n",
    "move 1 from 1 to 2\n",
    "\"\"\""
   ]
  },
  {
   "cell_type": "code",
   "execution_count": null,
   "id": "9ec37f70-7d5f-48f1-af96-218f435456b4",
   "metadata": {},
   "outputs": [],
   "source": [
    "def pop_n(l, n):\n",
    "  \"\"\"Pop n members from top of stack (list), return popped head and altered stack.\"\"\"\n",
    "  popped, popped_lst = [ l[-n:], l[0:len(l)-n] ]\n",
    "  return [popped, popped_lst]\n",
    "\n",
    "def push_n(l, data):\n",
    "  \"\"\"Push data (list) members to top of stack (list), return altered stack.\"\"\"\n",
    "  for elem in data:\n",
    "    l.append(elem)\n",
    "  return l\n",
    "\n",
    "def transpose_lol(lol):\n",
    "  \"\"\"Transpose a list-of-lists.\"\"\"\n",
    "  # short circuits at shortest nested list if table is jagged:\n",
    "  return list(map(list, zip(*lol)))\n",
    "\n",
    "def get_stacks(rows):\n",
    "  \"\"\"Take parsed rows from input string and pprocess into target data structure list-of-tacks.\"\"\"\n",
    "  stacks = transpose_lol(rows)\n",
    "  stacks = mapl(lambda it: list(reversed(it)), stacks)\n",
    "  for stack in stacks:\n",
    "    while stack[-1] == \"\":\n",
    "      stack.pop()\n",
    "  return stacks\n",
    "\n",
    "def play_stack_cmds(stacks, cmds):\n",
    "  \"\"\"Play the commands on stacks data.\"\"\"\n",
    "  for cmd in cmds:\n",
    "    anz, frm, to = cmd\n",
    "    hd, stacks[frm-1] = pop_n(stacks[frm-1], anz)\n",
    "    stacks[to-1] = push_n(stacks[to-1], reversed(hd))\n",
    "  return stacks"
   ]
  },
  {
   "cell_type": "code",
   "execution_count": null,
   "id": "16517ffd-db0e-45f8-810f-67d651064c69",
   "metadata": {},
   "outputs": [],
   "source": [
    "def solve_day05pt1(inp):\n",
    "  \"\"\"Solve Day 5 part 1.\"\"\"\n",
    "  chunk_size = 4\n",
    "  stacks = []\n",
    "  rows = []\n",
    "  cmds = []\n",
    "  #f\"inp=\\n{inp}\" |> print\n",
    "  for line in inp.split(\"\\n\"):\n",
    "    #f\"line=>{line}< len={len(line)}\" |> print\n",
    "    line += \" \"\n",
    "    if \"[\" in line:\n",
    "      llen = len(line)\n",
    "      row = [ line[i:i+chunk_size] for i in range(0, llen, chunk_size) ]\n",
    "      #f\"found row1={row}\" |> print\n",
    "      row = mapl(lambda it: it.replace(\"[\", \"\").replace(\"]\", \"\").strip(), row)\n",
    "      #f\"found row2={row}\" |> print\n",
    "      rows.append(row)\n",
    "    elif line.strip() == \"\":\n",
    "      #\"empty line found\" |> print\n",
    "      continue\n",
    "    elif \"move\" in line:\n",
    "      m = re.search(r\"^move (\\d+) from (\\d+) to (\\d+)\", line)\n",
    "      l = mapl(int, [m.group(1), m.group(2), m.group(3)])\n",
    "      cmds.append(l)\n",
    "    else:\n",
    "      #f\"unparsed line=>{line}<\" |> print\n",
    "      continue\n",
    "  stacks = get_stacks(rows)\n",
    "  #f\"initial_stacks=\\n{stacks}\" |> print\n",
    "  #f\"  cmds=\\n{cmds}\" |> print\n",
    "  stacks = play_stack_cmds(stacks, cmds)\n",
    "  result = \"\".join([stack.pop() for stack in stacks])\n",
    "  #f\"result={result}\" |> print\n",
    "  return result"
   ]
  },
  {
   "cell_type": "code",
   "execution_count": null,
   "id": "d5771ae9-cfe5-4d6e-a5b9-b92095297835",
   "metadata": {},
   "outputs": [],
   "source": [
    "f\"{day} {part}\" |> print\n",
    "expected = \"CMZ\"\n",
    "result = solve_day05pt1(tests)\n",
    "aoc.assert_msg(f\"test solve {day} {part} expected={expected} result={result}\", result == expected)"
   ]
  },
  {
   "cell_type": "code",
   "execution_count": null,
   "id": "30168025-ac42-48d6-80e3-73b994528011",
   "metadata": {},
   "outputs": [],
   "source": [
    "ins = aoc.read_file_to_str(f\"./in/{symb}.in\")\n",
    "out = solve_day05pt1(ins)\n",
    "f\"{day} {part} result: {out}\" |> print"
   ]
  },
  {
   "cell_type": "code",
   "execution_count": null,
   "id": "890ad4a0-1068-4cf0-a1fd-6655fe427801",
   "metadata": {},
   "outputs": [],
   "source": [
    "def play_stack_cmds_pt2(stacks, cmds):\n",
    "  \"\"\"Play the commands on stacks data, modified for part 2.\"\"\"\n",
    "  for cmd in cmds:\n",
    "    anz, frm, to = cmd\n",
    "    hd, stacks[frm-1] = pop_n(stacks[frm-1], anz)\n",
    "    stacks[to-1] = push_n(stacks[to-1], hd)  # changed, not reversed\n",
    "  return stacks"
   ]
  },
  {
   "cell_type": "code",
   "execution_count": null,
   "id": "a3b1430c-0ab0-43cb-b758-f16dc03b4c6c",
   "metadata": {},
   "outputs": [],
   "source": [
    "def solve_day05pt2(inp):\n",
    "  \"\"\"Solve Day 5 part 2.\"\"\"\n",
    "  chunk_size = 4\n",
    "  stacks = []\n",
    "  rows = []\n",
    "  cmds = []\n",
    "  for line in inp.split(\"\\n\"):\n",
    "    line += \" \"\n",
    "    if \"[\" in line:\n",
    "      llen = len(line)\n",
    "      row = [ line[i:i+chunk_size] for i in range(0, llen, chunk_size) ]\n",
    "      row = mapl(lambda it: it.replace(\"[\", \"\").replace(\"]\", \"\").strip(), row)\n",
    "      rows.append(row)\n",
    "    elif line.strip() == \"\":\n",
    "      continue\n",
    "    elif \"move\" in line:\n",
    "      m = re.search(r\"^move (\\d+) from (\\d+) to (\\d+)\", line)\n",
    "      l = mapl(int, [m.group(1), m.group(2), m.group(3)])\n",
    "      cmds.append(l)\n",
    "    else:\n",
    "      continue\n",
    "  stacks = get_stacks(rows)\n",
    "  stacks = play_stack_cmds_pt2(stacks, cmds)  # changed, pt2\n",
    "  result = \"\".join([stack.pop() for stack in stacks])\n",
    "  return result"
   ]
  },
  {
   "cell_type": "code",
   "execution_count": null,
   "id": "df681693-2697-4646-b7ff-85fed0ac145e",
   "metadata": {},
   "outputs": [],
   "source": [
    "part = \"part 2\"\n",
    "expected = \"MCD\"\n",
    "f\"{day} {part}\" |> print\n",
    "result = solve_day05pt2(tests)\n",
    "aoc.assert_msg(f\"test solve {day} {part} expected={expected} result={result}\", result == expected)"
   ]
  },
  {
   "cell_type": "code",
   "execution_count": null,
   "id": "20e670e1-0cda-4141-964d-b7c61b36161e",
   "metadata": {},
   "outputs": [],
   "source": [
    "ins = aoc.read_file_to_str(f\"./in/{symb}.in\")\n",
    "out = solve_day05pt2(ins)\n",
    "f\"{day} {part} output: {out}\" |> print"
   ]
  }
 ],
 "metadata": {
  "kernelspec": {
   "display_name": "Coconut",
   "language": "coconut",
   "name": "coconut"
  },
  "language_info": {
   "codemirror_mode": {
    "name": "python",
    "version": 3
   },
   "file_extension": ".coco",
   "mimetype": "text/x-python3",
   "name": "coconut",
   "pygments_lexer": "coconut",
   "version": "2.1.1"
  }
 },
 "nbformat": 4,
 "nbformat_minor": 5
}
