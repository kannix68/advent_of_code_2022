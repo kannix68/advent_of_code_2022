{
 "cells": [
  {
   "cell_type": "markdown",
   "id": "4bc2c96b-06b4-4cd3-a7f1-90748a097356",
   "metadata": {},
   "source": [
    "# Advent of Code 2022\n",
    "\n",
    "This solution (Jupyter lab 3.5.0; coconut 2.1.1 on python 3.10.8) by kannix68, @ 2022-12.  \\\n",
    "Using anaconda distro, conda v22.9.0, and coconut language.  \\\n",
    "Tested and run on MacOS v10.14.6 \"Mojave\".\n",
    "\n",
    "Reddit Advent of Code [solution_megathreads - adventofcode](https://www.reddit.com/r/adventofcode/wiki/solution_megathreads#wiki_december_2021)"
   ]
  },
  {
   "cell_type": "code",
   "execution_count": null,
   "id": "f05b3cb2-6ebd-411b-9617-dc971d9adafe",
   "metadata": {},
   "outputs": [],
   "source": [
    "import copy\n",
    "import itertools\n",
    "import logging\n",
    "import re\n",
    "import sys\n",
    "import time\n",
    "\n",
    "from collections import defaultdict\n",
    "\n",
    "import numpy as np\n",
    "import pandas as pd\n",
    "\n",
    "import pylib.aochelper as aoc\n",
    "#from pylib.aochelper import map_list as mapl\n",
    "#from pylib.aochelper import filter_list as filterl\n",
    "\n",
    "f\"Python version: {sys.version}\" |> print\n",
    "f\"Version info: {sys.version_info}\" |> print\n",
    "\n",
    "log = aoc.getLogger(__name__)\n",
    "f\"Initial log-level={aoc.getLogLevelName(log.getEffectiveLevel())}.\" |> print"
   ]
  },
  {
   "cell_type": "markdown",
   "id": "92287b3d-33aa-4aad-af04-e92e08709ae8",
   "metadata": {},
   "source": [
    "## Problem domain code"
   ]
  },
  {
   "cell_type": "markdown",
   "id": "639bb8c3-48e4-4b86-abda-16415d7ef20d",
   "metadata": {},
   "source": [
    "### --- Day 1: Calorie Counting ---"
   ]
  },
  {
   "cell_type": "code",
   "execution_count": null,
   "id": "4ac75efe-3bba-4077-8bcb-004748123a6a",
   "metadata": {},
   "outputs": [],
   "source": [
    "\"Day 1\" |> print\n",
    "\n",
    "tests = \"\"\"\n",
    "1000\n",
    "2000\n",
    "3000\n",
    "\n",
    "4000\n",
    "\n",
    "5000\n",
    "6000\n",
    "\n",
    "7000\n",
    "8000\n",
    "9000\n",
    "\n",
    "10000\n",
    "\"\"\".strip()"
   ]
  },
  {
   "cell_type": "code",
   "execution_count": null,
   "id": "8a8ef40e-db5b-4a72-b1e7-6d384f74d9b5",
   "metadata": {},
   "outputs": [],
   "source": [
    "def solve_day01pt1(inp):\n",
    "  \"\"\"Solve Day 1 part 1.\"\"\"\n",
    "  reindeers = inp.split(\"\\n\\n\") |> fmap$( x -> x.split(\"\\n\") |> fmap$(int) )\n",
    "  #reindeers |> print\n",
    "  return reindeers |> map$(sum) |> max"
   ]
  },
  {
   "cell_type": "code",
   "execution_count": null,
   "id": "f4bcc5f8-f82c-40bd-8d90-3b314413c19b",
   "metadata": {},
   "outputs": [],
   "source": [
    "\"Day 1 part 1\" |> print\n",
    "expected = 24_000\n",
    "result = solve_day01pt1(tests)\n",
    "aoc.assert_msg(f\"test solve day 1 part 1 expected={expected} result={result}\", result == expected)"
   ]
  },
  {
   "cell_type": "code",
   "execution_count": null,
   "id": "c522cf3f-d94d-4f72-b8b4-c82ef26d5bc1",
   "metadata": {},
   "outputs": [],
   "source": [
    "ins = aoc.read_file_to_str(\"./in/day01.in\").strip()\n",
    "out = solve_day01pt1(ins)\n",
    "f\"day 1 part 1 output: {out}\" |> print"
   ]
  },
  {
   "cell_type": "code",
   "execution_count": null,
   "id": "b7c2a2e9-0664-4181-8c5f-f47b5d4ea1d5",
   "metadata": {},
   "outputs": [],
   "source": [
    "def solve_day01pt2(inp):\n",
    "  \"\"\"Solve Day 1 part 2.\"\"\"\n",
    "  reindeers = inp.split(\"\\n\\n\") |> fmap$( x -> x.split(\"\\n\") |> fmap$(int) )\n",
    "  top3 = reindeers |> fmap$(sum) |> sorted$(reverse=True) |> .[0:3]\n",
    "  return top3 |> sum"
   ]
  },
  {
   "cell_type": "code",
   "execution_count": null,
   "id": "e927ce82-5757-430b-a720-7c99178b57cb",
   "metadata": {},
   "outputs": [],
   "source": [
    "\"Day 1 part 2\" |> print\n",
    "expected = 45_000\n",
    "result = solve_day01pt2(tests)\n",
    "aoc.assert_msg(f\"test solve day 1 part 1 expected={expected} result={result}\", result == expected)"
   ]
  },
  {
   "cell_type": "code",
   "execution_count": null,
   "id": "d4a1f828-4502-43f8-a742-11f1f4d81aef",
   "metadata": {},
   "outputs": [],
   "source": [
    "out = solve_day01pt2(ins)\n",
    "f\"day 1 part 2 output: {out}\" |> print"
   ]
  },
  {
   "cell_type": "markdown",
   "id": "d6622916-1e79-4bc0-bb97-2f4e612f612d",
   "metadata": {},
   "source": [
    "### --- Day 2: Rock Paper Scissors ---"
   ]
  },
  {
   "cell_type": "code",
   "execution_count": null,
   "id": "9ff1a147-0431-43ab-be77-3aedddb510fb",
   "metadata": {},
   "outputs": [],
   "source": [
    "tests = \"\"\"\n",
    "A Y\n",
    "B X\n",
    "C Z\n",
    "\"\"\".strip()"
   ]
  },
  {
   "cell_type": "code",
   "execution_count": null,
   "id": "af3a32f9-eb12-441c-bfa3-ada25dab054f",
   "metadata": {},
   "outputs": [],
   "source": [
    "values = {'X': 1, 'Y': 2, 'Z': 3}\n",
    "outcomes = {\n",
    "  'A': {'X': 3, 'Y': 6, 'Z': 0},\n",
    "  'B': {'X': 0, 'Y': 3, 'Z': 6},\n",
    "  'C': {'X': 6, 'Y': 0, 'Z': 3},\n",
    "}\n",
    "\n",
    "def solve_day02pt1(inp):\n",
    "  \"\"\"Solve Day 2 part 1.\"\"\"\n",
    "  score = 0\n",
    "  for line in inp.splitlines():\n",
    "    [p1, p2] = line.split()\n",
    "    #f\"[p1, p2] = {[p1, p2]}\" |> print\n",
    "    round_score = values[p2]  # item value score\n",
    "    round_score += outcomes[p1][p2]  # outcome score\n",
    "    #f\"adding round score {round_score}\" |> print\n",
    "    score += round_score\n",
    "  return score"
   ]
  },
  {
   "cell_type": "code",
   "execution_count": null,
   "id": "72bfb280-0567-4d63-bb7f-485fbb63f90d",
   "metadata": {},
   "outputs": [],
   "source": [
    "\"Day 2 part 1\" |> print\n",
    "expected = 15\n",
    "result = solve_day02pt1(tests)\n",
    "aoc.assert_msg(f\"test solve day 2 part 1 expected={expected} result={result}\", result == expected)"
   ]
  },
  {
   "cell_type": "code",
   "execution_count": null,
   "id": "40b74525-ede4-4320-a2c2-5b1c83905a62",
   "metadata": {},
   "outputs": [],
   "source": [
    "ins = aoc.read_file_to_str(\"./in/day02.in\").strip()\n",
    "out = solve_day02pt1(ins)\n",
    "f\"day 2 part 1 output: {out}\" |> print"
   ]
  },
  {
   "cell_type": "code",
   "execution_count": null,
   "id": "6010e577-8372-454b-9d15-200b8f8d2cb4",
   "metadata": {},
   "outputs": [],
   "source": [
    "def solve_day02pt2(inp):\n",
    "  \"\"\"Solve Day 2 part 2.\"\"\"\n",
    "  outcome_tags = {'X': 0, 'Y': 3, 'Z': 6}  # who wins on pt 2\n",
    "  outcomes_inv = {}\n",
    "  for k, innerdict in outcomes.items():\n",
    "    #outcomes_inv[k] = dict((v, k) for k, v in innerdict.items())  # keys and values swapped\n",
    "    outcomes_inv[k] = {v: k for k, v in innerdict.items()}  # keys and values swapped\n",
    "  #f\"outcomes_inverse={outcomes_inv}\" |> print\n",
    "  score = 0\n",
    "  for line in inp.splitlines():\n",
    "    [p1, o2] = line.split()\n",
    "    round_score = outcome_tags[o2]\n",
    "    p2 = outcomes_inv[p1][round_score]  # my item (player 2)\n",
    "    round_score += values[p2]  # outcome score\n",
    "    #f\"adding round score {round_score} from item={p2}\" |> print\n",
    "    score += round_score\n",
    "  return score"
   ]
  },
  {
   "cell_type": "code",
   "execution_count": null,
   "id": "07fe82a6-4ab3-46f1-b969-d17db1c8a5f2",
   "metadata": {},
   "outputs": [],
   "source": [
    "\"Day 2 part 2\" |> print\n",
    "expected = 12\n",
    "result = solve_day02pt2(tests)\n",
    "aoc.assert_msg(f\"test solve day 2 part 2 expected={expected} result={result}\", result == expected)"
   ]
  },
  {
   "cell_type": "code",
   "execution_count": null,
   "id": "2a167277-a07a-4906-be3b-1cbfc74d3d5a",
   "metadata": {},
   "outputs": [],
   "source": [
    "out = solve_day02pt2(ins)\n",
    "f\"day 2 part 2 output: {out}\" |> print"
   ]
  }
 ],
 "metadata": {
  "kernelspec": {
   "display_name": "Coconut",
   "language": "coconut",
   "name": "coconut"
  },
  "language_info": {
   "codemirror_mode": {
    "name": "python",
    "version": 3
   },
   "file_extension": ".coco",
   "mimetype": "text/x-python3",
   "name": "coconut",
   "pygments_lexer": "coconut",
   "version": "2.1.1"
  }
 },
 "nbformat": 4,
 "nbformat_minor": 5
}
